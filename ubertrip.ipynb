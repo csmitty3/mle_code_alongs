{
 "cells": [
  {
   "cell_type": "markdown",
   "id": "f5985b55",
   "metadata": {},
   "source": [
    "* list 1\n",
    "* list 2"
   ]
  },
  {
   "cell_type": "markdown",
   "id": "eed9ff9e",
   "metadata": {},
   "source": [
    "# First Section\n",
    "# Second Section\n",
    "## First Subsection"
   ]
  },
  {
   "cell_type": "code",
   "execution_count": 17,
   "id": "a0436354",
   "metadata": {},
   "outputs": [],
   "source": [
    "%matplotlib inline\n",
    "import pandas as pd\n",
    "import seaborn as sns"
   ]
  },
  {
   "cell_type": "markdown",
   "id": "cac8b961",
   "metadata": {},
   "source": [
    "# load csv file"
   ]
  },
  {
   "cell_type": "code",
   "execution_count": 6,
   "id": "bdd2bddb",
   "metadata": {},
   "outputs": [],
   "source": [
    "#can use parse_dates=['Date/Time'] - but code along goes different route\n",
    "data = pd.read_csv('uber-raw-data-apr14.csv')"
   ]
  },
  {
   "cell_type": "code",
   "execution_count": 7,
   "id": "086d9601",
   "metadata": {},
   "outputs": [
    {
     "data": {
      "text/html": [
       "<div>\n",
       "<style scoped>\n",
       "    .dataframe tbody tr th:only-of-type {\n",
       "        vertical-align: middle;\n",
       "    }\n",
       "\n",
       "    .dataframe tbody tr th {\n",
       "        vertical-align: top;\n",
       "    }\n",
       "\n",
       "    .dataframe thead th {\n",
       "        text-align: right;\n",
       "    }\n",
       "</style>\n",
       "<table border=\"1\" class=\"dataframe\">\n",
       "  <thead>\n",
       "    <tr style=\"text-align: right;\">\n",
       "      <th></th>\n",
       "      <th>Date/Time</th>\n",
       "      <th>Lat</th>\n",
       "      <th>Lon</th>\n",
       "      <th>Base</th>\n",
       "    </tr>\n",
       "  </thead>\n",
       "  <tbody>\n",
       "    <tr>\n",
       "      <th>0</th>\n",
       "      <td>4/1/2014 0:11:00</td>\n",
       "      <td>40.7690</td>\n",
       "      <td>-73.9549</td>\n",
       "      <td>B02512</td>\n",
       "    </tr>\n",
       "    <tr>\n",
       "      <th>1</th>\n",
       "      <td>4/1/2014 0:17:00</td>\n",
       "      <td>40.7267</td>\n",
       "      <td>-74.0345</td>\n",
       "      <td>B02512</td>\n",
       "    </tr>\n",
       "    <tr>\n",
       "      <th>2</th>\n",
       "      <td>4/1/2014 0:21:00</td>\n",
       "      <td>40.7316</td>\n",
       "      <td>-73.9873</td>\n",
       "      <td>B02512</td>\n",
       "    </tr>\n",
       "    <tr>\n",
       "      <th>3</th>\n",
       "      <td>4/1/2014 0:28:00</td>\n",
       "      <td>40.7588</td>\n",
       "      <td>-73.9776</td>\n",
       "      <td>B02512</td>\n",
       "    </tr>\n",
       "    <tr>\n",
       "      <th>4</th>\n",
       "      <td>4/1/2014 0:33:00</td>\n",
       "      <td>40.7594</td>\n",
       "      <td>-73.9722</td>\n",
       "      <td>B02512</td>\n",
       "    </tr>\n",
       "  </tbody>\n",
       "</table>\n",
       "</div>"
      ],
      "text/plain": [
       "          Date/Time      Lat      Lon    Base\n",
       "0  4/1/2014 0:11:00  40.7690 -73.9549  B02512\n",
       "1  4/1/2014 0:17:00  40.7267 -74.0345  B02512\n",
       "2  4/1/2014 0:21:00  40.7316 -73.9873  B02512\n",
       "3  4/1/2014 0:28:00  40.7588 -73.9776  B02512\n",
       "4  4/1/2014 0:33:00  40.7594 -73.9722  B02512"
      ]
     },
     "execution_count": 7,
     "metadata": {},
     "output_type": "execute_result"
    }
   ],
   "source": [
    "data.head()"
   ]
  },
  {
   "cell_type": "code",
   "execution_count": 36,
   "id": "40c9f837",
   "metadata": {},
   "outputs": [
    {
     "data": {
      "text/html": [
       "<div>\n",
       "<style scoped>\n",
       "    .dataframe tbody tr th:only-of-type {\n",
       "        vertical-align: middle;\n",
       "    }\n",
       "\n",
       "    .dataframe tbody tr th {\n",
       "        vertical-align: top;\n",
       "    }\n",
       "\n",
       "    .dataframe thead th {\n",
       "        text-align: right;\n",
       "    }\n",
       "</style>\n",
       "<table border=\"1\" class=\"dataframe\">\n",
       "  <thead>\n",
       "    <tr style=\"text-align: right;\">\n",
       "      <th></th>\n",
       "      <th>Date/Time</th>\n",
       "      <th>Lat</th>\n",
       "      <th>Lon</th>\n",
       "      <th>Base</th>\n",
       "    </tr>\n",
       "  </thead>\n",
       "  <tbody>\n",
       "    <tr>\n",
       "      <th>564511</th>\n",
       "      <td>4/30/2014 23:22:00</td>\n",
       "      <td>40.7640</td>\n",
       "      <td>-73.9744</td>\n",
       "      <td>B02764</td>\n",
       "    </tr>\n",
       "    <tr>\n",
       "      <th>564512</th>\n",
       "      <td>4/30/2014 23:26:00</td>\n",
       "      <td>40.7629</td>\n",
       "      <td>-73.9672</td>\n",
       "      <td>B02764</td>\n",
       "    </tr>\n",
       "    <tr>\n",
       "      <th>564513</th>\n",
       "      <td>4/30/2014 23:31:00</td>\n",
       "      <td>40.7443</td>\n",
       "      <td>-73.9889</td>\n",
       "      <td>B02764</td>\n",
       "    </tr>\n",
       "    <tr>\n",
       "      <th>564514</th>\n",
       "      <td>4/30/2014 23:32:00</td>\n",
       "      <td>40.6756</td>\n",
       "      <td>-73.9405</td>\n",
       "      <td>B02764</td>\n",
       "    </tr>\n",
       "    <tr>\n",
       "      <th>564515</th>\n",
       "      <td>4/30/2014 23:48:00</td>\n",
       "      <td>40.6880</td>\n",
       "      <td>-73.9608</td>\n",
       "      <td>B02764</td>\n",
       "    </tr>\n",
       "  </tbody>\n",
       "</table>\n",
       "</div>"
      ],
      "text/plain": [
       "                 Date/Time      Lat      Lon    Base\n",
       "564511  4/30/2014 23:22:00  40.7640 -73.9744  B02764\n",
       "564512  4/30/2014 23:26:00  40.7629 -73.9672  B02764\n",
       "564513  4/30/2014 23:31:00  40.7443 -73.9889  B02764\n",
       "564514  4/30/2014 23:32:00  40.6756 -73.9405  B02764\n",
       "564515  4/30/2014 23:48:00  40.6880 -73.9608  B02764"
      ]
     },
     "execution_count": 36,
     "metadata": {},
     "output_type": "execute_result"
    }
   ],
   "source": [
    "data.tail()"
   ]
  },
  {
   "cell_type": "code",
   "execution_count": 29,
   "id": "77f863c5",
   "metadata": {},
   "outputs": [],
   "source": []
  },
  {
   "cell_type": "code",
   "execution_count": 37,
   "id": "4ad34d81",
   "metadata": {},
   "outputs": [
    {
     "name": "stdout",
     "output_type": "stream",
     "text": [
      "4/30/2014\n",
      "4\n",
      "30\n",
      "2014\n",
      "23:22:00\n",
      "23\n",
      "22\n",
      "00\n"
     ]
    }
   ],
   "source": [
    "#could do this but not effective\n",
    "date = '4/30/2014 23:22:00'\n",
    "d, t = date.split(' ')\n",
    "month, day, year = d.split('/')\n",
    "hour, minute, second = t.split(':')\n",
    "print(d)\n",
    "print(month)\n",
    "print(day)\n",
    "print(year)\n",
    "print(t)\n",
    "print(hour)\n",
    "print(minute)\n",
    "print(second)"
   ]
  },
  {
   "cell_type": "code",
   "execution_count": 8,
   "id": "eb6442f5",
   "metadata": {},
   "outputs": [],
   "source": [
    "data['Date/Time'] = data['Date/Time'].map(pd.to_datetime)"
   ]
  },
  {
   "cell_type": "code",
   "execution_count": 9,
   "id": "2d82ef76",
   "metadata": {},
   "outputs": [
    {
     "name": "stdout",
     "output_type": "stream",
     "text": [
      "                 Date/Time      Lat      Lon    Base  dom\n",
      "564511 2014-04-30 23:22:00  40.7640 -73.9744  B02764   30\n",
      "564512 2014-04-30 23:26:00  40.7629 -73.9672  B02764   30\n",
      "564513 2014-04-30 23:31:00  40.7443 -73.9889  B02764   30\n",
      "564514 2014-04-30 23:32:00  40.6756 -73.9405  B02764   30\n",
      "564515 2014-04-30 23:48:00  40.6880 -73.9608  B02764   30\n"
     ]
    }
   ],
   "source": [
    "def get_dom(dt):\n",
    "    return dt.day\n",
    "data['dom'] = data['Date/Time'].map(get_dom)\n",
    "print(data.tail())"
   ]
  },
  {
   "cell_type": "code",
   "execution_count": 10,
   "id": "453fe0d1",
   "metadata": {},
   "outputs": [
    {
     "name": "stdout",
     "output_type": "stream",
     "text": [
      "                 Date/Time      Lat      Lon    Base  dom  weekday  hour\n",
      "564511 2014-04-30 23:22:00  40.7640 -73.9744  B02764   30        2    23\n",
      "564512 2014-04-30 23:26:00  40.7629 -73.9672  B02764   30        2    23\n",
      "564513 2014-04-30 23:31:00  40.7443 -73.9889  B02764   30        2    23\n",
      "564514 2014-04-30 23:32:00  40.6756 -73.9405  B02764   30        2    23\n",
      "564515 2014-04-30 23:48:00  40.6880 -73.9608  B02764   30        2    23\n"
     ]
    }
   ],
   "source": [
    "def get_weekday(dt):\n",
    "    return dt.weekday()\n",
    "def get_hour(dt):\n",
    "    return dt.hour\n",
    "data['weekday'] = data['Date/Time'].map(get_weekday)\n",
    "data['hour'] = data['Date/Time'].map(get_hour)\n",
    "print(data.tail())"
   ]
  },
  {
   "cell_type": "code",
   "execution_count": 18,
   "id": "4f10786a",
   "metadata": {},
   "outputs": [
    {
     "ename": "NameError",
     "evalue": "name 'hist' is not defined",
     "output_type": "error",
     "traceback": [
      "\u001b[0;31m---------------------------------------------------------------------------\u001b[0m",
      "\u001b[0;31mNameError\u001b[0m                                 Traceback (most recent call last)",
      "Input \u001b[0;32mIn [18]\u001b[0m, in \u001b[0;36m<cell line: 1>\u001b[0;34m()\u001b[0m\n\u001b[0;32m----> 1\u001b[0m \u001b[43mhist\u001b[49m(data\u001b[38;5;241m.\u001b[39mdom, bins\u001b[38;5;241m=\u001b[39m\u001b[38;5;241m30\u001b[39m, rwidth\u001b[38;5;241m=\u001b[39m\u001b[38;5;241m.8\u001b[39m, \u001b[38;5;28mrange\u001b[39m\u001b[38;5;241m=\u001b[39m(\u001b[38;5;241m0.5\u001b[39m, \u001b[38;5;241m30.5\u001b[39m))\n\u001b[1;32m      2\u001b[0m xlabel(\u001b[38;5;124m'\u001b[39m\u001b[38;5;124mday of month\u001b[39m\u001b[38;5;124m'\u001b[39m)\n\u001b[1;32m      3\u001b[0m ylabel(\u001b[38;5;124m'\u001b[39m\u001b[38;5;124mfrequency\u001b[39m\u001b[38;5;124m'\u001b[39m)\n",
      "\u001b[0;31mNameError\u001b[0m: name 'hist' is not defined"
     ]
    }
   ],
   "source": [
    "hist(data.dom, bins=30, rwidth=.8, range=(0.5, 30.5))\n",
    "xlabel('day of month')\n",
    "ylabel('frequency')\n",
    "title('Frequency by Day of Month - Uber - April 2014')"
   ]
  },
  {
   "cell_type": "code",
   "execution_count": 19,
   "id": "65737e71",
   "metadata": {},
   "outputs": [
    {
     "name": "stdout",
     "output_type": "stream",
     "text": [
      "1 14546\n",
      "2 17474\n",
      "3 20701\n",
      "4 26714\n",
      "5 19521\n",
      "6 13445\n",
      "7 19550\n",
      "8 16188\n",
      "9 16843\n",
      "10 20041\n",
      "11 20420\n",
      "12 18170\n",
      "13 12112\n",
      "14 12674\n",
      "15 20641\n",
      "16 17717\n",
      "17 20973\n",
      "18 18074\n",
      "19 14602\n",
      "20 11017\n",
      "21 13162\n",
      "22 16975\n",
      "23 20346\n",
      "24 23352\n",
      "25 25095\n",
      "26 24925\n",
      "27 14677\n",
      "28 15475\n",
      "29 22835\n",
      "30 36251\n"
     ]
    }
   ],
   "source": [
    "for i, rows in data.groupby('dom'):\n",
    "    print(i, len(rows))\n"
   ]
  },
  {
   "cell_type": "code",
   "execution_count": 20,
   "id": "c2952f2c",
   "metadata": {},
   "outputs": [
    {
     "name": "stdout",
     "output_type": "stream",
     "text": [
      "dom\n",
      "1     14546\n",
      "2     17474\n",
      "3     20701\n",
      "4     26714\n",
      "5     19521\n",
      "6     13445\n",
      "7     19550\n",
      "8     16188\n",
      "9     16843\n",
      "10    20041\n",
      "11    20420\n",
      "12    18170\n",
      "13    12112\n",
      "14    12674\n",
      "15    20641\n",
      "16    17717\n",
      "17    20973\n",
      "18    18074\n",
      "19    14602\n",
      "20    11017\n",
      "21    13162\n",
      "22    16975\n",
      "23    20346\n",
      "24    23352\n",
      "25    25095\n",
      "26    24925\n",
      "27    14677\n",
      "28    15475\n",
      "29    22835\n",
      "30    36251\n",
      "dtype: int64\n"
     ]
    }
   ],
   "source": [
    "def count_rows(rows):\n",
    "    return len(rows)\n",
    "by_date = data.groupby('dom').apply(count_rows)\n",
    "print(by_date)"
   ]
  },
  {
   "cell_type": "code",
   "execution_count": 23,
   "id": "7e6e3a3c",
   "metadata": {},
   "outputs": [
    {
     "name": "stdout",
     "output_type": "stream",
     "text": [
      "dom\n",
      "20    11017\n",
      "13    12112\n",
      "14    12674\n",
      "21    13162\n",
      "6     13445\n",
      "1     14546\n",
      "19    14602\n",
      "27    14677\n",
      "28    15475\n",
      "8     16188\n",
      "9     16843\n",
      "22    16975\n",
      "2     17474\n",
      "16    17717\n",
      "18    18074\n",
      "12    18170\n",
      "5     19521\n",
      "7     19550\n",
      "10    20041\n",
      "23    20346\n",
      "11    20420\n",
      "15    20641\n",
      "3     20701\n",
      "17    20973\n",
      "29    22835\n",
      "24    23352\n",
      "26    24925\n",
      "25    25095\n",
      "4     26714\n",
      "30    36251\n",
      "dtype: int64\n"
     ]
    }
   ],
   "source": [
    "by_date_sorted = by_date.sort_values()\n",
    "print(by_date_sorted)"
   ]
  },
  {
   "cell_type": "code",
   "execution_count": null,
   "id": "84ab4701",
   "metadata": {},
   "outputs": [],
   "source": []
  }
 ],
 "metadata": {
  "kernelspec": {
   "display_name": "Python 3 (ipykernel)",
   "language": "python",
   "name": "python3"
  },
  "language_info": {
   "codemirror_mode": {
    "name": "ipython",
    "version": 3
   },
   "file_extension": ".py",
   "mimetype": "text/x-python",
   "name": "python",
   "nbconvert_exporter": "python",
   "pygments_lexer": "ipython3",
   "version": "3.10.6"
  }
 },
 "nbformat": 4,
 "nbformat_minor": 5
}
