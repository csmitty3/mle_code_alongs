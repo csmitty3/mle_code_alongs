{
 "cells": [
  {
   "cell_type": "markdown",
   "id": "f5985b55",
   "metadata": {},
   "source": [
    "* list 1\n",
    "* list 2"
   ]
  },
  {
   "cell_type": "markdown",
   "id": "eed9ff9e",
   "metadata": {},
   "source": [
    "# First Section\n",
    "# Second Section\n",
    "## First Subsection"
   ]
  },
  {
   "cell_type": "code",
   "execution_count": 17,
   "id": "a0436354",
   "metadata": {},
   "outputs": [],
   "source": [
    "import matplotlib.pyplot as plt\n",
    "import pandas as pd\n",
    "import seaborn as sns"
   ]
  },
  {
   "cell_type": "markdown",
   "id": "cac8b961",
   "metadata": {},
   "source": [
    "# load csv file"
   ]
  },
  {
   "cell_type": "code",
   "execution_count": 2,
   "id": "bdd2bddb",
   "metadata": {},
   "outputs": [],
   "source": [
    "#can use parse_dates=['Date/Time'] - but code along goes different route\n",
    "data = pd.read_csv('uber-raw-data-apr14.csv')"
   ]
  },
  {
   "cell_type": "code",
   "execution_count": 3,
   "id": "086d9601",
   "metadata": {},
   "outputs": [
    {
     "data": {
      "text/html": [
       "<div>\n",
       "<style scoped>\n",
       "    .dataframe tbody tr th:only-of-type {\n",
       "        vertical-align: middle;\n",
       "    }\n",
       "\n",
       "    .dataframe tbody tr th {\n",
       "        vertical-align: top;\n",
       "    }\n",
       "\n",
       "    .dataframe thead th {\n",
       "        text-align: right;\n",
       "    }\n",
       "</style>\n",
       "<table border=\"1\" class=\"dataframe\">\n",
       "  <thead>\n",
       "    <tr style=\"text-align: right;\">\n",
       "      <th></th>\n",
       "      <th>Date/Time</th>\n",
       "      <th>Lat</th>\n",
       "      <th>Lon</th>\n",
       "      <th>Base</th>\n",
       "    </tr>\n",
       "  </thead>\n",
       "  <tbody>\n",
       "    <tr>\n",
       "      <th>0</th>\n",
       "      <td>4/1/2014 0:11:00</td>\n",
       "      <td>40.7690</td>\n",
       "      <td>-73.9549</td>\n",
       "      <td>B02512</td>\n",
       "    </tr>\n",
       "    <tr>\n",
       "      <th>1</th>\n",
       "      <td>4/1/2014 0:17:00</td>\n",
       "      <td>40.7267</td>\n",
       "      <td>-74.0345</td>\n",
       "      <td>B02512</td>\n",
       "    </tr>\n",
       "    <tr>\n",
       "      <th>2</th>\n",
       "      <td>4/1/2014 0:21:00</td>\n",
       "      <td>40.7316</td>\n",
       "      <td>-73.9873</td>\n",
       "      <td>B02512</td>\n",
       "    </tr>\n",
       "    <tr>\n",
       "      <th>3</th>\n",
       "      <td>4/1/2014 0:28:00</td>\n",
       "      <td>40.7588</td>\n",
       "      <td>-73.9776</td>\n",
       "      <td>B02512</td>\n",
       "    </tr>\n",
       "    <tr>\n",
       "      <th>4</th>\n",
       "      <td>4/1/2014 0:33:00</td>\n",
       "      <td>40.7594</td>\n",
       "      <td>-73.9722</td>\n",
       "      <td>B02512</td>\n",
       "    </tr>\n",
       "  </tbody>\n",
       "</table>\n",
       "</div>"
      ],
      "text/plain": [
       "          Date/Time      Lat      Lon    Base\n",
       "0  4/1/2014 0:11:00  40.7690 -73.9549  B02512\n",
       "1  4/1/2014 0:17:00  40.7267 -74.0345  B02512\n",
       "2  4/1/2014 0:21:00  40.7316 -73.9873  B02512\n",
       "3  4/1/2014 0:28:00  40.7588 -73.9776  B02512\n",
       "4  4/1/2014 0:33:00  40.7594 -73.9722  B02512"
      ]
     },
     "execution_count": 3,
     "metadata": {},
     "output_type": "execute_result"
    }
   ],
   "source": [
    "data.head()"
   ]
  },
  {
   "cell_type": "code",
   "execution_count": 4,
   "id": "40c9f837",
   "metadata": {},
   "outputs": [
    {
     "data": {
      "text/html": [
       "<div>\n",
       "<style scoped>\n",
       "    .dataframe tbody tr th:only-of-type {\n",
       "        vertical-align: middle;\n",
       "    }\n",
       "\n",
       "    .dataframe tbody tr th {\n",
       "        vertical-align: top;\n",
       "    }\n",
       "\n",
       "    .dataframe thead th {\n",
       "        text-align: right;\n",
       "    }\n",
       "</style>\n",
       "<table border=\"1\" class=\"dataframe\">\n",
       "  <thead>\n",
       "    <tr style=\"text-align: right;\">\n",
       "      <th></th>\n",
       "      <th>Date/Time</th>\n",
       "      <th>Lat</th>\n",
       "      <th>Lon</th>\n",
       "      <th>Base</th>\n",
       "    </tr>\n",
       "  </thead>\n",
       "  <tbody>\n",
       "    <tr>\n",
       "      <th>564511</th>\n",
       "      <td>4/30/2014 23:22:00</td>\n",
       "      <td>40.7640</td>\n",
       "      <td>-73.9744</td>\n",
       "      <td>B02764</td>\n",
       "    </tr>\n",
       "    <tr>\n",
       "      <th>564512</th>\n",
       "      <td>4/30/2014 23:26:00</td>\n",
       "      <td>40.7629</td>\n",
       "      <td>-73.9672</td>\n",
       "      <td>B02764</td>\n",
       "    </tr>\n",
       "    <tr>\n",
       "      <th>564513</th>\n",
       "      <td>4/30/2014 23:31:00</td>\n",
       "      <td>40.7443</td>\n",
       "      <td>-73.9889</td>\n",
       "      <td>B02764</td>\n",
       "    </tr>\n",
       "    <tr>\n",
       "      <th>564514</th>\n",
       "      <td>4/30/2014 23:32:00</td>\n",
       "      <td>40.6756</td>\n",
       "      <td>-73.9405</td>\n",
       "      <td>B02764</td>\n",
       "    </tr>\n",
       "    <tr>\n",
       "      <th>564515</th>\n",
       "      <td>4/30/2014 23:48:00</td>\n",
       "      <td>40.6880</td>\n",
       "      <td>-73.9608</td>\n",
       "      <td>B02764</td>\n",
       "    </tr>\n",
       "  </tbody>\n",
       "</table>\n",
       "</div>"
      ],
      "text/plain": [
       "                 Date/Time      Lat      Lon    Base\n",
       "564511  4/30/2014 23:22:00  40.7640 -73.9744  B02764\n",
       "564512  4/30/2014 23:26:00  40.7629 -73.9672  B02764\n",
       "564513  4/30/2014 23:31:00  40.7443 -73.9889  B02764\n",
       "564514  4/30/2014 23:32:00  40.6756 -73.9405  B02764\n",
       "564515  4/30/2014 23:48:00  40.6880 -73.9608  B02764"
      ]
     },
     "execution_count": 4,
     "metadata": {},
     "output_type": "execute_result"
    }
   ],
   "source": [
    "data.tail()"
   ]
  },
  {
   "cell_type": "code",
   "execution_count": 29,
   "id": "77f863c5",
   "metadata": {},
   "outputs": [],
   "source": []
  },
  {
   "cell_type": "code",
   "execution_count": 37,
   "id": "4ad34d81",
   "metadata": {},
   "outputs": [
    {
     "name": "stdout",
     "output_type": "stream",
     "text": [
      "4/30/2014\n",
      "4\n",
      "30\n",
      "2014\n",
      "23:22:00\n",
      "23\n",
      "22\n",
      "00\n"
     ]
    }
   ],
   "source": [
    "#could do this but not effective\n",
    "date = '4/30/2014 23:22:00'\n",
    "d, t = date.split(' ')\n",
    "month, day, year = d.split('/')\n",
    "hour, minute, second = t.split(':')\n",
    "print(d)\n",
    "print(month)\n",
    "print(day)\n",
    "print(year)\n",
    "print(t)\n",
    "print(hour)\n",
    "print(minute)\n",
    "print(second)"
   ]
  },
  {
   "cell_type": "code",
   "execution_count": 5,
   "id": "eb6442f5",
   "metadata": {},
   "outputs": [],
   "source": [
    "data['Date/Time'] = data['Date/Time'].map(pd.to_datetime)"
   ]
  },
  {
   "cell_type": "code",
   "execution_count": 6,
   "id": "2d82ef76",
   "metadata": {},
   "outputs": [
    {
     "name": "stdout",
     "output_type": "stream",
     "text": [
      "                 Date/Time      Lat      Lon    Base  dom\n",
      "564511 2014-04-30 23:22:00  40.7640 -73.9744  B02764   30\n",
      "564512 2014-04-30 23:26:00  40.7629 -73.9672  B02764   30\n",
      "564513 2014-04-30 23:31:00  40.7443 -73.9889  B02764   30\n",
      "564514 2014-04-30 23:32:00  40.6756 -73.9405  B02764   30\n",
      "564515 2014-04-30 23:48:00  40.6880 -73.9608  B02764   30\n"
     ]
    }
   ],
   "source": [
    "def get_dom(dt):\n",
    "    return dt.day\n",
    "data['dom'] = data['Date/Time'].map(get_dom)\n",
    "print(data.tail())"
   ]
  },
  {
   "cell_type": "code",
   "execution_count": 7,
   "id": "453fe0d1",
   "metadata": {},
   "outputs": [
    {
     "name": "stdout",
     "output_type": "stream",
     "text": [
      "                 Date/Time      Lat      Lon    Base  dom  weekday  hour\n",
      "564511 2014-04-30 23:22:00  40.7640 -73.9744  B02764   30        2    23\n",
      "564512 2014-04-30 23:26:00  40.7629 -73.9672  B02764   30        2    23\n",
      "564513 2014-04-30 23:31:00  40.7443 -73.9889  B02764   30        2    23\n",
      "564514 2014-04-30 23:32:00  40.6756 -73.9405  B02764   30        2    23\n",
      "564515 2014-04-30 23:48:00  40.6880 -73.9608  B02764   30        2    23\n"
     ]
    }
   ],
   "source": [
    "def get_weekday(dt):\n",
    "    return dt.weekday()\n",
    "def get_hour(dt):\n",
    "    return dt.hour\n",
    "data['weekday'] = data['Date/Time'].map(get_weekday)\n",
    "data['hour'] = data['Date/Time'].map(get_hour)\n",
    "print(data.tail())"
   ]
  },
  {
   "cell_type": "code",
   "execution_count": 26,
   "id": "4f10786a",
   "metadata": {},
   "outputs": [
    {
     "data": {
      "image/png": "[encoded data removed]",
      "text/plain": [
       "<Figure size 640x480 with 1 Axes>"
      ]
     },
     "metadata": {},
     "output_type": "display_data"
    }
   ],
   "source": [
    "plt.hist(data.dom, bins=30, rwidth=0.8, range=(0.5, 30.5))\n",
    "plt.show()"
   ]
  },
  {
   "cell_type": "code",
   "execution_count": 27,
   "id": "65737e71",
   "metadata": {},
   "outputs": [
    {
     "name": "stdout",
     "output_type": "stream",
     "text": [
      "1 14546\n",
      "2 17474\n",
      "3 20701\n",
      "4 26714\n",
      "5 19521\n",
      "6 13445\n",
      "7 19550\n",
      "8 16188\n",
      "9 16843\n",
      "10 20041\n",
      "11 20420\n",
      "12 18170\n",
      "13 12112\n",
      "14 12674\n",
      "15 20641\n",
      "16 17717\n",
      "17 20973\n",
      "18 18074\n",
      "19 14602\n",
      "20 11017\n",
      "21 13162\n",
      "22 16975\n",
      "23 20346\n",
      "24 23352\n",
      "25 25095\n",
      "26 24925\n",
      "27 14677\n",
      "28 15475\n",
      "29 22835\n",
      "30 36251\n"
     ]
    }
   ],
   "source": [
    "for i, rows in data.groupby('dom'):\n",
    "    print(i, len(rows))\n"
   ]
  },
  {
   "cell_type": "code",
   "execution_count": 28,
   "id": "c2952f2c",
   "metadata": {},
   "outputs": [
    {
     "name": "stdout",
     "output_type": "stream",
     "text": [
      "dom\n",
      "1     14546\n",
      "2     17474\n",
      "3     20701\n",
      "4     26714\n",
      "5     19521\n",
      "6     13445\n",
      "7     19550\n",
      "8     16188\n",
      "9     16843\n",
      "10    20041\n",
      "11    20420\n",
      "12    18170\n",
      "13    12112\n",
      "14    12674\n",
      "15    20641\n",
      "16    17717\n",
      "17    20973\n",
      "18    18074\n",
      "19    14602\n",
      "20    11017\n",
      "21    13162\n",
      "22    16975\n",
      "23    20346\n",
      "24    23352\n",
      "25    25095\n",
      "26    24925\n",
      "27    14677\n",
      "28    15475\n",
      "29    22835\n",
      "30    36251\n",
      "dtype: int64\n"
     ]
    }
   ],
   "source": [
    "def count_rows(rows):\n",
    "    return len(rows)\n",
    "by_date = data.groupby('dom').apply(count_rows)\n",
    "print(by_date)"
   ]
  },
  {
   "cell_type": "code",
   "execution_count": 29,
   "id": "7e6e3a3c",
   "metadata": {},
   "outputs": [
    {
     "name": "stdout",
     "output_type": "stream",
     "text": [
      "dom\n",
      "20    11017\n",
      "13    12112\n",
      "14    12674\n",
      "21    13162\n",
      "6     13445\n",
      "1     14546\n",
      "19    14602\n",
      "27    14677\n",
      "28    15475\n",
      "8     16188\n",
      "9     16843\n",
      "22    16975\n",
      "2     17474\n",
      "16    17717\n",
      "18    18074\n",
      "12    18170\n",
      "5     19521\n",
      "7     19550\n",
      "10    20041\n",
      "23    20346\n",
      "11    20420\n",
      "15    20641\n",
      "3     20701\n",
      "17    20973\n",
      "29    22835\n",
      "24    23352\n",
      "26    24925\n",
      "25    25095\n",
      "4     26714\n",
      "30    36251\n",
      "dtype: int64\n"
     ]
    }
   ],
   "source": [
    "by_date_sorted = by_date.sort_values()\n",
    "print(by_date_sorted)"
   ]
  },
  {
   "cell_type": "code",
   "execution_count": 35,
   "id": "84ab4701",
   "metadata": {},
   "outputs": [
    {
     "data": {
      "text/plain": [
       "Text(0.5, 1.0, 'Title Goes Here')"
      ]
     },
     "execution_count": 35,
     "metadata": {},
     "output_type": "execute_result"
    },
    {
     "data": {
      "image/png": "[encoded data removed]",
      "text/plain": [
       "<Figure size 640x480 with 1 Axes>"
      ]
     },
     "metadata": {},
     "output_type": "display_data"
    }
   ],
   "source": [
    "plt.bar(range(1, 31), by_date_sorted)\n",
    "plt.xticks(range(1, 31), by_date_sorted.index)\n",
    "plt.xlabel('index')\n",
    "plt.ylabel('Frequency')\n",
    "plt.title('Title Goes Here')"
   ]
  },
  {
   "cell_type": "code",
   "execution_count": 37,
   "id": "b534c339",
   "metadata": {},
   "outputs": [
    {
     "data": {
      "text/plain": [
       "(array([ 7769.,  4935.,  5040.,  6095.,  9476., 18498., 24924., 22843.,\n",
       "        17939., 17865., 18774., 19425., 22603., 27190., 35324., 42003.,\n",
       "        45475., 43003., 38923., 36244., 36964., 30645., 20649.,     0.]),\n",
       " array([ 0.5       ,  1.47916667,  2.45833333,  3.4375    ,  4.41666667,\n",
       "         5.39583333,  6.375     ,  7.35416667,  8.33333333,  9.3125    ,\n",
       "        10.29166667, 11.27083333, 12.25      , 13.22916667, 14.20833333,\n",
       "        15.1875    , 16.16666667, 17.14583333, 18.125     , 19.10416667,\n",
       "        20.08333333, 21.0625    , 22.04166667, 23.02083333, 24.        ]),\n",
       " <BarContainer object of 24 artists>)"
      ]
     },
     "execution_count": 37,
     "metadata": {},
     "output_type": "execute_result"
    },
    {
     "data": {
      "image/png": "[encoded data removed]",
      "text/plain": [
       "<Figure size 640x480 with 1 Axes>"
      ]
     },
     "metadata": {},
     "output_type": "display_data"
    }
   ],
   "source": [
    "plt.hist(data.hour, bins=24, range=(.5, 24))"
   ]
  },
  {
   "cell_type": "code",
   "execution_count": 43,
   "id": "656ecdd7",
   "metadata": {},
   "outputs": [
    {
     "data": {
      "text/plain": [
       "([<matplotlib.axis.XTick at 0x7fcaa86a8cd0>,\n",
       "  <matplotlib.axis.XTick at 0x7fcaa86a9090>,\n",
       "  <matplotlib.axis.XTick at 0x7fca8f0ca8c0>,\n",
       "  <matplotlib.axis.XTick at 0x7fcaa8739750>,\n",
       "  <matplotlib.axis.XTick at 0x7fcaa8738eb0>,\n",
       "  <matplotlib.axis.XTick at 0x7fca8fbe08b0>,\n",
       "  <matplotlib.axis.XTick at 0x7fca8fb7d7e0>],\n",
       " [Text(0, 0, 'Mon'),\n",
       "  Text(1, 0, 'Tues'),\n",
       "  Text(2, 0, 'Wed'),\n",
       "  Text(3, 0, 'Thurs'),\n",
       "  Text(4, 0, 'Fri'),\n",
       "  Text(5, 0, 'Sat'),\n",
       "  Text(6, 0, 'Sun')])"
      ]
     },
     "execution_count": 43,
     "metadata": {},
     "output_type": "execute_result"
    },
    {
     "data": {
      "image/png": "[encoded data removed]",
      "text/plain": [
       "<Figure size 640x480 with 1 Axes>"
      ]
     },
     "metadata": {},
     "output_type": "display_data"
    }
   ],
   "source": [
    "plt.hist(data.weekday, bins=7, range=(-.5, 6.5), color='green', rwidth=0.8, alpha=0.7)\n",
    "plt.xticks(range(7), 'Mon Tues Wed Thurs Fri Sat Sun'.split(' '))"
   ]
  },
  {
   "cell_type": "code",
   "execution_count": 48,
   "id": "cbc2f19c",
   "metadata": {},
   "outputs": [],
   "source": [
    "cross = data.groupby(['weekday', 'hour']).apply(count_rows).unstack()"
   ]
  },
  {
   "cell_type": "code",
   "execution_count": 45,
   "id": "c491cec0",
   "metadata": {},
   "outputs": [
    {
     "data": {
      "text/plain": [
       "hour  weekday\n",
       "0     0           518\n",
       "      1           765\n",
       "      2           899\n",
       "      3           792\n",
       "      4          1367\n",
       "                 ... \n",
       "23    2          2571\n",
       "      3          2909\n",
       "      4          5393\n",
       "      5          5719\n",
       "      6          1018\n",
       "Length: 168, dtype: int64"
      ]
     },
     "execution_count": 45,
     "metadata": {},
     "output_type": "execute_result"
    }
   ],
   "source": [
    "by_h_d = data.groupby('hour weekday'.split(' ')).apply(count_rows)"
   ]
  },
  {
   "cell_type": "code",
   "execution_count": 49,
   "id": "f38e4ef3",
   "metadata": {},
   "outputs": [
    {
     "data": {
      "text/plain": [
       "<AxesSubplot:xlabel='hour', ylabel='weekday'>"
      ]
     },
     "execution_count": 49,
     "metadata": {},
     "output_type": "execute_result"
    },
    {
     "data": {
      "image/png": "[encoded data removed]",
      "text/plain": [
       "<Figure size 640x480 with 2 Axes>"
      ]
     },
     "metadata": {},
     "output_type": "display_data"
    }
   ],
   "source": [
    "sns.heatmap(cross)"
   ]
  },
  {
   "cell_type": "code",
   "execution_count": null,
   "id": "0ba6d13e",
   "metadata": {},
   "outputs": [],
   "source": []
  }
 ],
 "metadata": {
  "kernelspec": {
   "display_name": "Python 3 (ipykernel)",
   "language": "python",
   "name": "python3"
  },
  "language_info": {
   "codemirror_mode": {
    "name": "ipython",
    "version": 3
   },
   "file_extension": ".py",
   "mimetype": "text/x-python",
   "name": "python",
   "nbconvert_exporter": "python",
   "pygments_lexer": "ipython3",
   "version": "3.10.6"
  }
 },
 "nbformat": 4,
 "nbformat_minor": 5
}
